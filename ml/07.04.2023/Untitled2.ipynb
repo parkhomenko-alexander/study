{
 "cells": [
  {
   "cell_type": "code",
   "execution_count": 16,
   "id": "5a819637",
   "metadata": {},
   "outputs": [
    {
     "name": "stdout",
     "output_type": "stream",
     "text": [
      "126 369 97838805977257474352566705351629014033137938449734350966526074342064414099511156930426773522415958061389200997320437636836296142253482249885877442849062074323416253749444792245426920843456133929113701176246001\n"
     ]
    },
    {
     "data": {
      "text/plain": [
       "1860867"
      ]
     },
     "execution_count": 16,
     "metadata": {},
     "output_type": "execute_result"
    }
   ],
   "source": [
    "i = 123\n",
    "\n",
    "f = 3\n",
    "f1 = 100\n",
    "\n",
    "\n",
    "bool_true = True\n",
    "bool_false = False\n",
    "\n",
    "print(i + f, i * f, i**f1)\n",
    "i / f\n",
    "\n",
    "r = pow(i, f)\n",
    "r"
   ]
  },
  {
   "cell_type": "code",
   "execution_count": 29,
   "id": "1482290a",
   "metadata": {},
   "outputs": [
    {
     "ename": "TypeError",
     "evalue": "'bool' object is not iterable",
     "output_type": "error",
     "traceback": [
      "\u001b[1;31m---------------------------------------------------------------------------\u001b[0m",
      "\u001b[1;31mTypeError\u001b[0m                                 Traceback (most recent call last)",
      "Input \u001b[1;32mIn [29]\u001b[0m, in \u001b[0;36m<cell line: 4>\u001b[1;34m()\u001b[0m\n\u001b[0;32m      1\u001b[0m \u001b[38;5;66;03m# дождь и лужи \u001b[39;00m\n\u001b[0;32m      3\u001b[0m bool_res1 \u001b[38;5;241m=\u001b[39m bool_true \u001b[38;5;129;01mand\u001b[39;00m bool_false\n\u001b[1;32m----> 4\u001b[0m bool_res2 \u001b[38;5;241m=\u001b[39m \u001b[38;5;28;43mlist\u001b[39;49m\u001b[43m(\u001b[49m\u001b[38;5;129;43;01mnot\u001b[39;49;00m\u001b[43m \u001b[49m\u001b[43m(\u001b[49m\u001b[43mbool_false\u001b[49m\u001b[43m \u001b[49m\u001b[38;5;129;43;01mor\u001b[39;49;00m\u001b[43m \u001b[49m\u001b[43mbool_false\u001b[49m\u001b[43m)\u001b[49m\u001b[43m)\u001b[49m\n\u001b[0;32m      6\u001b[0m bool_res2\n",
      "\u001b[1;31mTypeError\u001b[0m: 'bool' object is not iterable"
     ]
    }
   ],
   "source": [
    "# дождь и лужи \n",
    "\n",
    "bool_res1 = bool_true and bool_false\n",
    "bool_res2 = not (bool_false or bool_false)\n",
    "\n",
    "bool_res2\n",
    "\n"
   ]
  },
  {
   "cell_type": "code",
   "execution_count": 60,
   "id": "8af2372f",
   "metadata": {},
   "outputs": [
    {
     "data": {
      "text/plain": [
       "'а'"
      ]
     },
     "execution_count": 60,
     "metadata": {},
     "output_type": "execute_result"
    }
   ],
   "source": [
    "s: str = 'летим на бали, sls принтер, 1 миллион'\n",
    "n = 10\n",
    "s = s[::-1]\n",
    "res = s.split(',')\n",
    "res\n",
    "res = s.find('а')\n",
    "s[26]\n"
   ]
  },
  {
   "cell_type": "code",
   "execution_count": 71,
   "id": "aa2b7a6c",
   "metadata": {},
   "outputs": [
    {
     "name": "stdout",
     "output_type": "stream",
     "text": [
      "default\n"
     ]
    }
   ],
   "source": [
    "a = 22\n",
    "b = 300\n",
    "\n",
    "if a + b == 777:\n",
    "    print('jeckpot')\n",
    "elif not (a + b == 322):\n",
    "    print('stonks')\n",
    "else:\n",
    "    print('default')\n"
   ]
  },
  {
   "cell_type": "code",
   "execution_count": 81,
   "id": "e4a157c6",
   "metadata": {},
   "outputs": [
    {
     "name": "stdout",
     "output_type": "stream",
     "text": [
      "0 1 16 81 256 625 1296 2401 4096 6561 "
     ]
    }
   ],
   "source": [
    "l: list = [i**4 for i in range(10)]  \n",
    "l\n",
    "for element in l:\n",
    "    print(element, end=' ')\n",
    "    \n",
    "    \n",
    "#зарегаться на гугл колаб\n",
    "# найти дата сет для задачи классификации \n",
    "# до 5к строк , формат: csv и скинуть мне \n"
   ]
  }
 ],
 "metadata": {
  "kernelspec": {
   "display_name": "Python 3 (ipykernel)",
   "language": "python",
   "name": "python3"
  },
  "language_info": {
   "codemirror_mode": {
    "name": "ipython",
    "version": 3
   },
   "file_extension": ".py",
   "mimetype": "text/x-python",
   "name": "python",
   "nbconvert_exporter": "python",
   "pygments_lexer": "ipython3",
   "version": "3.9.12"
  }
 },
 "nbformat": 4,
 "nbformat_minor": 5
}
