{
 "cells": [
  {
   "cell_type": "code",
   "execution_count": 80,
   "id": "c7cd0021",
   "metadata": {},
   "outputs": [],
   "source": [
    "# print('sdafa', 'asdasdasd', sep='\\n')"
   ]
  },
  {
   "cell_type": "markdown",
   "id": "0357158c",
   "metadata": {},
   "source": [
    "Языки по типу сборки:\n",
    "1 - компилируемые \n",
    "2 - интерпретируемые\n",
    "\n",
    "По типизации:\n",
    "1 - статическая типизация \n",
    "2 - динамическая \n"
   ]
  },
  {
   "cell_type": "code",
   "execution_count": 1,
   "id": "d4c03c8f",
   "metadata": {},
   "outputs": [
    {
     "name": "stdout",
     "output_type": "stream",
     "text": [
      "[56789, [1, 2, 3], {'key1': 1}]\n"
     ]
    }
   ],
   "source": [
    "a = '5678.4567'\n",
    "a = 56789\n",
    "a = [a, [1,2,3], {'key1': 1}]\n",
    "print(a)"
   ]
  },
  {
   "cell_type": "markdown",
   "id": "7a395199",
   "metadata": {},
   "source": [
    "int a = 0;\n",
    "a = 0 , 32 175 "
   ]
  },
  {
   "cell_type": "code",
   "execution_count": 2,
   "id": "a48333ff",
   "metadata": {},
   "outputs": [],
   "source": [
    "# b: int = 'trerte' \n",
    "# print(b)\n",
    "# c: list[int] = 332"
   ]
  },
  {
   "cell_type": "code",
   "execution_count": 3,
   "id": "da0834e7",
   "metadata": {},
   "outputs": [],
   "source": [
    "# pep 8\n",
    "__percent_votes = 34"
   ]
  },
  {
   "cell_type": "markdown",
   "id": "b971034a",
   "metadata": {},
   "source": [
    "Типы данных:\n",
    "1 - целые числа\n",
    "2 - числа с плавающей точкой\n",
    "3 - строки\n",
    "4 - логический тип данных "
   ]
  },
  {
   "cell_type": "code",
   "execution_count": 4,
   "id": "8bd2e59c",
   "metadata": {},
   "outputs": [],
   "source": [
    "i = 123\n",
    "\n",
    "f = 3\n",
    "# f1 = 10e3\n",
    "\n",
    "\n",
    "boll_var = True\n",
    "boll_var1 = False\n",
    "\n"
   ]
  }
 ],
 "metadata": {
  "kernelspec": {
   "display_name": "Python 3 (ipykernel)",
   "language": "python",
   "name": "python3"
  },
  "language_info": {
   "codemirror_mode": {
    "name": "ipython",
    "version": 3
   },
   "file_extension": ".py",
   "mimetype": "text/x-python",
   "name": "python",
   "nbconvert_exporter": "python",
   "pygments_lexer": "ipython3",
   "version": "3.9.12"
  }
 },
 "nbformat": 4,
 "nbformat_minor": 5
}
